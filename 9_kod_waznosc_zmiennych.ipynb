{
 "cells": [
  {
   "cell_type": "code",
   "execution_count": 1,
   "id": "845a87ae",
   "metadata": {},
   "outputs": [
    {
     "data": {
      "text/html": [
       "<div>\n",
       "<style scoped>\n",
       "    .dataframe tbody tr th:only-of-type {\n",
       "        vertical-align: middle;\n",
       "    }\n",
       "\n",
       "    .dataframe tbody tr th {\n",
       "        vertical-align: top;\n",
       "    }\n",
       "\n",
       "    .dataframe thead th {\n",
       "        text-align: right;\n",
       "    }\n",
       "</style>\n",
       "<table border=\"1\" class=\"dataframe\">\n",
       "  <thead>\n",
       "    <tr style=\"text-align: right;\">\n",
       "      <th></th>\n",
       "      <th>district</th>\n",
       "      <th>school</th>\n",
       "      <th>county</th>\n",
       "      <th>grades</th>\n",
       "      <th>students</th>\n",
       "      <th>teachers</th>\n",
       "      <th>calworks</th>\n",
       "      <th>lunch</th>\n",
       "      <th>computer</th>\n",
       "      <th>expenditure</th>\n",
       "      <th>income</th>\n",
       "      <th>english</th>\n",
       "      <th>read</th>\n",
       "      <th>math</th>\n",
       "      <th>size</th>\n",
       "      <th>score</th>\n",
       "    </tr>\n",
       "  </thead>\n",
       "  <tbody>\n",
       "    <tr>\n",
       "      <th>0</th>\n",
       "      <td>75119</td>\n",
       "      <td>Sunol Glen Unified</td>\n",
       "      <td>Alameda</td>\n",
       "      <td>KK-08</td>\n",
       "      <td>195</td>\n",
       "      <td>10.900000</td>\n",
       "      <td>0.510200</td>\n",
       "      <td>2.040800</td>\n",
       "      <td>67</td>\n",
       "      <td>6384.911133</td>\n",
       "      <td>22.690001</td>\n",
       "      <td>0.000000</td>\n",
       "      <td>691.599976</td>\n",
       "      <td>690.000000</td>\n",
       "      <td>17.889909</td>\n",
       "      <td>690.799988</td>\n",
       "    </tr>\n",
       "    <tr>\n",
       "      <th>1</th>\n",
       "      <td>61499</td>\n",
       "      <td>Manzanita Elementary</td>\n",
       "      <td>Butte</td>\n",
       "      <td>KK-08</td>\n",
       "      <td>240</td>\n",
       "      <td>11.150000</td>\n",
       "      <td>15.416700</td>\n",
       "      <td>47.916698</td>\n",
       "      <td>101</td>\n",
       "      <td>5099.380859</td>\n",
       "      <td>9.824000</td>\n",
       "      <td>4.583333</td>\n",
       "      <td>660.500000</td>\n",
       "      <td>661.900024</td>\n",
       "      <td>21.524664</td>\n",
       "      <td>661.200012</td>\n",
       "    </tr>\n",
       "    <tr>\n",
       "      <th>2</th>\n",
       "      <td>61549</td>\n",
       "      <td>Thermalito Union Elementary</td>\n",
       "      <td>Butte</td>\n",
       "      <td>KK-08</td>\n",
       "      <td>1550</td>\n",
       "      <td>82.900002</td>\n",
       "      <td>55.032299</td>\n",
       "      <td>76.322601</td>\n",
       "      <td>169</td>\n",
       "      <td>5501.954590</td>\n",
       "      <td>8.978000</td>\n",
       "      <td>30.000002</td>\n",
       "      <td>636.299988</td>\n",
       "      <td>650.900024</td>\n",
       "      <td>18.697225</td>\n",
       "      <td>643.600006</td>\n",
       "    </tr>\n",
       "    <tr>\n",
       "      <th>3</th>\n",
       "      <td>61457</td>\n",
       "      <td>Golden Feather Union Elementary</td>\n",
       "      <td>Butte</td>\n",
       "      <td>KK-08</td>\n",
       "      <td>243</td>\n",
       "      <td>14.000000</td>\n",
       "      <td>36.475399</td>\n",
       "      <td>77.049202</td>\n",
       "      <td>85</td>\n",
       "      <td>7101.831055</td>\n",
       "      <td>8.978000</td>\n",
       "      <td>0.000000</td>\n",
       "      <td>651.900024</td>\n",
       "      <td>643.500000</td>\n",
       "      <td>17.357143</td>\n",
       "      <td>647.700012</td>\n",
       "    </tr>\n",
       "    <tr>\n",
       "      <th>4</th>\n",
       "      <td>61523</td>\n",
       "      <td>Palermo Union Elementary</td>\n",
       "      <td>Butte</td>\n",
       "      <td>KK-08</td>\n",
       "      <td>1335</td>\n",
       "      <td>71.500000</td>\n",
       "      <td>33.108601</td>\n",
       "      <td>78.427002</td>\n",
       "      <td>171</td>\n",
       "      <td>5235.987793</td>\n",
       "      <td>9.080333</td>\n",
       "      <td>13.857677</td>\n",
       "      <td>641.799988</td>\n",
       "      <td>639.900024</td>\n",
       "      <td>18.671329</td>\n",
       "      <td>640.850006</td>\n",
       "    </tr>\n",
       "  </tbody>\n",
       "</table>\n",
       "</div>"
      ],
      "text/plain": [
       "   district                           school   county grades  students  \\\n",
       "0     75119               Sunol Glen Unified  Alameda  KK-08       195   \n",
       "1     61499             Manzanita Elementary    Butte  KK-08       240   \n",
       "2     61549      Thermalito Union Elementary    Butte  KK-08      1550   \n",
       "3     61457  Golden Feather Union Elementary    Butte  KK-08       243   \n",
       "4     61523         Palermo Union Elementary    Butte  KK-08      1335   \n",
       "\n",
       "    teachers   calworks      lunch  computer  expenditure     income  \\\n",
       "0  10.900000   0.510200   2.040800        67  6384.911133  22.690001   \n",
       "1  11.150000  15.416700  47.916698       101  5099.380859   9.824000   \n",
       "2  82.900002  55.032299  76.322601       169  5501.954590   8.978000   \n",
       "3  14.000000  36.475399  77.049202        85  7101.831055   8.978000   \n",
       "4  71.500000  33.108601  78.427002       171  5235.987793   9.080333   \n",
       "\n",
       "     english        read        math       size       score  \n",
       "0   0.000000  691.599976  690.000000  17.889909  690.799988  \n",
       "1   4.583333  660.500000  661.900024  21.524664  661.200012  \n",
       "2  30.000002  636.299988  650.900024  18.697225  643.600006  \n",
       "3   0.000000  651.900024  643.500000  17.357143  647.700012  \n",
       "4  13.857677  641.799988  639.900024  18.671329  640.850006  "
      ]
     },
     "execution_count": 1,
     "metadata": {},
     "output_type": "execute_result"
    }
   ],
   "source": [
    "import numpy as np\n",
    "import pandas as pd\n",
    "import matplotlib.pyplot as plt\n",
    "\n",
    "data = pd.read_csv(\"data/CASchools.csv\")\n",
    "data.head()"
   ]
  },
  {
   "cell_type": "code",
   "execution_count": null,
   "id": "26461e9f",
   "metadata": {},
   "outputs": [],
   "source": []
  },
  {
   "cell_type": "code",
   "execution_count": null,
   "id": "579ae8a1",
   "metadata": {},
   "outputs": [],
   "source": []
  },
  {
   "cell_type": "code",
   "execution_count": 2,
   "id": "cf9e3350",
   "metadata": {},
   "outputs": [],
   "source": [
    "from sklearn.linear_model import LinearRegression\n",
    "from sklearn.model_selection import train_test_split\n",
    "from sklearn.metrics import r2_score"
   ]
  },
  {
   "cell_type": "code",
   "execution_count": 3,
   "id": "7ed838e2",
   "metadata": {},
   "outputs": [],
   "source": [
    "numeric_features = [\"students\", \"teachers\", \"calworks\", \"lunch\", \"computer\", \"expenditure\", \"income\"]\n",
    "categorical_features = [\"county\", \"grades\"]\n",
    "\n",
    "X = data[numeric_features+categorical_features]\n",
    "y = data.read\n",
    "\n",
    "X_train, X_test, y_train, y_test = train_test_split(X, y, test_size=0.2)"
   ]
  },
  {
   "cell_type": "code",
   "execution_count": 4,
   "id": "1f710bd5",
   "metadata": {},
   "outputs": [
    {
     "data": {
      "text/html": [
       "<div>\n",
       "<style scoped>\n",
       "    .dataframe tbody tr th:only-of-type {\n",
       "        vertical-align: middle;\n",
       "    }\n",
       "\n",
       "    .dataframe tbody tr th {\n",
       "        vertical-align: top;\n",
       "    }\n",
       "\n",
       "    .dataframe thead th {\n",
       "        text-align: right;\n",
       "    }\n",
       "</style>\n",
       "<table border=\"1\" class=\"dataframe\">\n",
       "  <thead>\n",
       "    <tr style=\"text-align: right;\">\n",
       "      <th></th>\n",
       "      <th>students</th>\n",
       "      <th>teachers</th>\n",
       "      <th>calworks</th>\n",
       "      <th>lunch</th>\n",
       "      <th>computer</th>\n",
       "      <th>expenditure</th>\n",
       "      <th>income</th>\n",
       "    </tr>\n",
       "  </thead>\n",
       "  <tbody>\n",
       "    <tr>\n",
       "      <th>0</th>\n",
       "      <td>195</td>\n",
       "      <td>10.900000</td>\n",
       "      <td>0.510200</td>\n",
       "      <td>2.040800</td>\n",
       "      <td>67</td>\n",
       "      <td>6384.911133</td>\n",
       "      <td>22.690001</td>\n",
       "    </tr>\n",
       "    <tr>\n",
       "      <th>1</th>\n",
       "      <td>240</td>\n",
       "      <td>11.150000</td>\n",
       "      <td>15.416700</td>\n",
       "      <td>47.916698</td>\n",
       "      <td>101</td>\n",
       "      <td>5099.380859</td>\n",
       "      <td>9.824000</td>\n",
       "    </tr>\n",
       "    <tr>\n",
       "      <th>2</th>\n",
       "      <td>1550</td>\n",
       "      <td>82.900002</td>\n",
       "      <td>55.032299</td>\n",
       "      <td>76.322601</td>\n",
       "      <td>169</td>\n",
       "      <td>5501.954590</td>\n",
       "      <td>8.978000</td>\n",
       "    </tr>\n",
       "    <tr>\n",
       "      <th>3</th>\n",
       "      <td>243</td>\n",
       "      <td>14.000000</td>\n",
       "      <td>36.475399</td>\n",
       "      <td>77.049202</td>\n",
       "      <td>85</td>\n",
       "      <td>7101.831055</td>\n",
       "      <td>8.978000</td>\n",
       "    </tr>\n",
       "    <tr>\n",
       "      <th>4</th>\n",
       "      <td>1335</td>\n",
       "      <td>71.500000</td>\n",
       "      <td>33.108601</td>\n",
       "      <td>78.427002</td>\n",
       "      <td>171</td>\n",
       "      <td>5235.987793</td>\n",
       "      <td>9.080333</td>\n",
       "    </tr>\n",
       "  </tbody>\n",
       "</table>\n",
       "</div>"
      ],
      "text/plain": [
       "   students   teachers   calworks      lunch  computer  expenditure     income\n",
       "0       195  10.900000   0.510200   2.040800        67  6384.911133  22.690001\n",
       "1       240  11.150000  15.416700  47.916698       101  5099.380859   9.824000\n",
       "2      1550  82.900002  55.032299  76.322601       169  5501.954590   8.978000\n",
       "3       243  14.000000  36.475399  77.049202        85  7101.831055   8.978000\n",
       "4      1335  71.500000  33.108601  78.427002       171  5235.987793   9.080333"
      ]
     },
     "execution_count": 4,
     "metadata": {},
     "output_type": "execute_result"
    }
   ],
   "source": [
    "X[numeric_features].head()"
   ]
  },
  {
   "cell_type": "code",
   "execution_count": null,
   "id": "a6b7e972",
   "metadata": {},
   "outputs": [],
   "source": []
  },
  {
   "cell_type": "code",
   "execution_count": 5,
   "id": "5924d2ab",
   "metadata": {},
   "outputs": [],
   "source": [
    "from sklearn.pipeline import Pipeline\n",
    "from sklearn.preprocessing import StandardScaler"
   ]
  },
  {
   "cell_type": "code",
   "execution_count": 6,
   "id": "686271d3",
   "metadata": {},
   "outputs": [
    {
     "data": {
      "text/plain": [
       "Pipeline(steps=[('scaler', StandardScaler()), ('model', LinearRegression())])"
      ]
     },
     "execution_count": 6,
     "metadata": {},
     "output_type": "execute_result"
    }
   ],
   "source": [
    "pipeline = Pipeline([\n",
    "    (\"scaler\", StandardScaler()),\n",
    "    (\"model\", LinearRegression())])\n",
    "\n",
    "pipeline.fit(X_train[numeric_features], y_train)"
   ]
  },
  {
   "cell_type": "code",
   "execution_count": 7,
   "id": "1b634747",
   "metadata": {},
   "outputs": [
    {
     "data": {
      "text/plain": [
       "0.8083078681288711"
      ]
     },
     "execution_count": 7,
     "metadata": {},
     "output_type": "execute_result"
    }
   ],
   "source": [
    "r2_score(y_test, pipeline.predict(X_test[numeric_features]))"
   ]
  },
  {
   "cell_type": "code",
   "execution_count": 8,
   "id": "10d20838",
   "metadata": {},
   "outputs": [
    {
     "data": {
      "text/plain": [
       "array([ -5.34922232,   3.40620508,   1.58942431, -16.80398733,\n",
       "         0.57474973,   2.15571779,   2.54716239])"
      ]
     },
     "execution_count": 8,
     "metadata": {},
     "output_type": "execute_result"
    }
   ],
   "source": [
    "pipeline.named_steps[\"model\"].coef_"
   ]
  },
  {
   "cell_type": "code",
   "execution_count": 9,
   "id": "2bb66250",
   "metadata": {},
   "outputs": [],
   "source": [
    "importances = np.abs(pipeline.named_steps[\"model\"].coef_)"
   ]
  },
  {
   "cell_type": "code",
   "execution_count": 10,
   "id": "da813edc",
   "metadata": {},
   "outputs": [],
   "source": [
    "indices = np.argsort(importances)\n",
    "p = len(importances)\n",
    "colors = np.array([\"red\", \"green\"])[(np.sign(pipeline.named_steps[\"model\"].coef_)>0).astype(int)]"
   ]
  },
  {
   "cell_type": "code",
   "execution_count": 11,
   "id": "e2bc83e6",
   "metadata": {},
   "outputs": [
    {
     "data": {
      "image/png": "[encoded data removed]",
      "text/plain": [
       "<Figure size 432x288 with 1 Axes>"
      ]
     },
     "metadata": {
      "needs_background": "light"
     },
     "output_type": "display_data"
    }
   ],
   "source": [
    "plt.title('Feature Importances')\n",
    "plt.barh(range(p), importances[indices], color=colors[indices])\n",
    "plt.yticks(range(p), np.array(numeric_features)[indices])\n",
    "plt.xlabel('Importance')\n",
    "plt.show()"
   ]
  },
  {
   "cell_type": "code",
   "execution_count": 12,
   "id": "04fb1df8",
   "metadata": {},
   "outputs": [],
   "source": [
    "from sklearn.tree import DecisionTreeRegressor"
   ]
  },
  {
   "cell_type": "code",
   "execution_count": 13,
   "id": "9b577d49",
   "metadata": {},
   "outputs": [
    {
     "data": {
      "text/plain": [
       "DecisionTreeRegressor(min_samples_leaf=5)"
      ]
     },
     "execution_count": 13,
     "metadata": {},
     "output_type": "execute_result"
    }
   ],
   "source": [
    "model = DecisionTreeRegressor(min_samples_leaf=5)\n",
    "model.fit(X_train[numeric_features], y_train)"
   ]
  },
  {
   "cell_type": "code",
   "execution_count": 14,
   "id": "8cb3e4e7",
   "metadata": {},
   "outputs": [
    {
     "data": {
      "text/plain": [
       "0.6835538073161102"
      ]
     },
     "execution_count": 14,
     "metadata": {},
     "output_type": "execute_result"
    }
   ],
   "source": [
    "r2_score(y_test, model.predict(X_test[numeric_features]))"
   ]
  },
  {
   "cell_type": "code",
   "execution_count": 15,
   "id": "e07c7fcc",
   "metadata": {},
   "outputs": [
    {
     "data": {
      "text/plain": [
       "array([0.01521429, 0.01339342, 0.01226134, 0.87310021, 0.01115376,\n",
       "       0.02540334, 0.04947364])"
      ]
     },
     "execution_count": 15,
     "metadata": {},
     "output_type": "execute_result"
    }
   ],
   "source": [
    "model.feature_importances_"
   ]
  },
  {
   "cell_type": "code",
   "execution_count": 16,
   "id": "8200b866",
   "metadata": {},
   "outputs": [
    {
     "data": {
      "image/png": "[encoded data removed]",
      "text/plain": [
       "<Figure size 432x288 with 1 Axes>"
      ]
     },
     "metadata": {
      "needs_background": "light"
     },
     "output_type": "display_data"
    }
   ],
   "source": [
    "importances= model.feature_importances_\n",
    "\n",
    "indices = np.argsort(importances)\n",
    "p = len(importances)\n",
    "plt.title('Feature Importances')\n",
    "plt.barh(range(p), importances[indices])\n",
    "plt.yticks(range(p), np.array(numeric_features)[indices])\n",
    "plt.xlabel('Importance')\n",
    "plt.show()"
   ]
  },
  {
   "cell_type": "code",
   "execution_count": 17,
   "id": "686f4672",
   "metadata": {},
   "outputs": [],
   "source": [
    "from sklearn.compose import ColumnTransformer\n",
    "from sklearn.preprocessing import OneHotEncoder\n",
    "from sklearn.ensemble import RandomForestRegressor"
   ]
  },
  {
   "cell_type": "code",
   "execution_count": 18,
   "id": "25aee74e",
   "metadata": {},
   "outputs": [
    {
     "data": {
      "text/plain": [
       "['students',\n",
       " 'teachers',\n",
       " 'calworks',\n",
       " 'lunch',\n",
       " 'computer',\n",
       " 'expenditure',\n",
       " 'income']"
      ]
     },
     "execution_count": 18,
     "metadata": {},
     "output_type": "execute_result"
    }
   ],
   "source": [
    "numeric_features"
   ]
  },
  {
   "cell_type": "code",
   "execution_count": 19,
   "id": "c4f1f9b3",
   "metadata": {},
   "outputs": [
    {
     "data": {
      "text/plain": [
       "['county', 'grades']"
      ]
     },
     "execution_count": 19,
     "metadata": {},
     "output_type": "execute_result"
    }
   ],
   "source": [
    "categorical_features"
   ]
  },
  {
   "cell_type": "code",
   "execution_count": 20,
   "id": "f2e31c90",
   "metadata": {},
   "outputs": [
    {
     "data": {
      "text/plain": [
       "Pipeline(steps=[('preprocessor',\n",
       "                 ColumnTransformer(transformers=[('num', StandardScaler(),\n",
       "                                                  ['students', 'teachers',\n",
       "                                                   'calworks', 'lunch',\n",
       "                                                   'computer', 'expenditure',\n",
       "                                                   'income']),\n",
       "                                                 ('cat',\n",
       "                                                  OneHotEncoder(handle_unknown='ignore'),\n",
       "                                                  ['county', 'grades'])])),\n",
       "                ('model',\n",
       "                 RandomForestRegressor(min_samples_leaf=2, n_estimators=300))])"
      ]
     },
     "execution_count": 20,
     "metadata": {},
     "output_type": "execute_result"
    }
   ],
   "source": [
    "preprocessor = ColumnTransformer([\n",
    "    (\"num\", StandardScaler(), numeric_features),\n",
    "    (\"cat\", OneHotEncoder(handle_unknown=\"ignore\"), categorical_features)\n",
    "])\n",
    "\n",
    "pipeline = Pipeline([\n",
    "    (\"preprocessor\", preprocessor),\n",
    "    (\"model\", RandomForestRegressor(300, min_samples_leaf=2))\n",
    "])\n",
    "\n",
    "pipeline.fit(X_train, y_train)"
   ]
  },
  {
   "cell_type": "code",
   "execution_count": 21,
   "id": "1ac71167",
   "metadata": {},
   "outputs": [
    {
     "data": {
      "text/plain": [
       "0.7781714616226801"
      ]
     },
     "execution_count": 21,
     "metadata": {},
     "output_type": "execute_result"
    }
   ],
   "source": [
    "r2_score(y_test, pipeline.predict(X_test))"
   ]
  },
  {
   "cell_type": "code",
   "execution_count": 22,
   "id": "4dbf0149",
   "metadata": {},
   "outputs": [],
   "source": [
    "importances = pipeline.named_steps[\"model\"].feature_importances_"
   ]
  },
  {
   "cell_type": "code",
   "execution_count": 23,
   "id": "93141bbe",
   "metadata": {},
   "outputs": [],
   "source": [
    "fitted_preprocessor = pipeline.steps[0][1]"
   ]
  },
  {
   "cell_type": "code",
   "execution_count": 24,
   "id": "33889e68",
   "metadata": {},
   "outputs": [],
   "source": [
    "feature_names = fitted_preprocessor.get_feature_names_out()"
   ]
  },
  {
   "cell_type": "code",
   "execution_count": 25,
   "id": "61131ff0",
   "metadata": {},
   "outputs": [
    {
     "data": {
      "image/png": "[encoded data removed]",
      "text/plain": [
       "<Figure size 360x1440 with 1 Axes>"
      ]
     },
     "metadata": {
      "needs_background": "light"
     },
     "output_type": "display_data"
    }
   ],
   "source": [
    "plt.figure(figsize=(5,20))\n",
    "indices = np.argsort(importances)\n",
    "p = len(importances)\n",
    "plt.title('Feature Importances')\n",
    "plt.barh(range(p), importances[indices])\n",
    "plt.yticks(range(p), np.array(feature_names)[indices])\n",
    "plt.xlabel('Importance')\n",
    "plt.show()"
   ]
  }
 ],
 "metadata": {
  "kernelspec": {
   "display_name": "Elearn",
   "language": "python",
   "name": "elearn"
  },
  "language_info": {
   "codemirror_mode": {
    "name": "ipython",
    "version": 3
   },
   "file_extension": ".py",
   "mimetype": "text/x-python",
   "name": "python",
   "nbconvert_exporter": "python",
   "pygments_lexer": "ipython3",
   "version": "3.9.5"
  }
 },
 "nbformat": 4,
 "nbformat_minor": 5
}
