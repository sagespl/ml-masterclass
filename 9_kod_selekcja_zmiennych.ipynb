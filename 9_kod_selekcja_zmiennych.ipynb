{
 "cells": [
  {
   "cell_type": "code",
   "execution_count": 1,
   "id": "845a87ae",
   "metadata": {},
   "outputs": [
    {
     "data": {
      "text/html": [
       "<div>\n",
       "<style scoped>\n",
       "    .dataframe tbody tr th:only-of-type {\n",
       "        vertical-align: middle;\n",
       "    }\n",
       "\n",
       "    .dataframe tbody tr th {\n",
       "        vertical-align: top;\n",
       "    }\n",
       "\n",
       "    .dataframe thead th {\n",
       "        text-align: right;\n",
       "    }\n",
       "</style>\n",
       "<table border=\"1\" class=\"dataframe\">\n",
       "  <thead>\n",
       "    <tr style=\"text-align: right;\">\n",
       "      <th></th>\n",
       "      <th>district</th>\n",
       "      <th>school</th>\n",
       "      <th>county</th>\n",
       "      <th>grades</th>\n",
       "      <th>students</th>\n",
       "      <th>teachers</th>\n",
       "      <th>calworks</th>\n",
       "      <th>lunch</th>\n",
       "      <th>computer</th>\n",
       "      <th>expenditure</th>\n",
       "      <th>income</th>\n",
       "      <th>english</th>\n",
       "      <th>read</th>\n",
       "      <th>math</th>\n",
       "      <th>size</th>\n",
       "      <th>score</th>\n",
       "    </tr>\n",
       "  </thead>\n",
       "  <tbody>\n",
       "    <tr>\n",
       "      <th>0</th>\n",
       "      <td>75119</td>\n",
       "      <td>Sunol Glen Unified</td>\n",
       "      <td>Alameda</td>\n",
       "      <td>KK-08</td>\n",
       "      <td>195</td>\n",
       "      <td>10.900000</td>\n",
       "      <td>0.510200</td>\n",
       "      <td>2.040800</td>\n",
       "      <td>67</td>\n",
       "      <td>6384.911133</td>\n",
       "      <td>22.690001</td>\n",
       "      <td>0.000000</td>\n",
       "      <td>691.599976</td>\n",
       "      <td>690.000000</td>\n",
       "      <td>17.889909</td>\n",
       "      <td>690.799988</td>\n",
       "    </tr>\n",
       "    <tr>\n",
       "      <th>1</th>\n",
       "      <td>61499</td>\n",
       "      <td>Manzanita Elementary</td>\n",
       "      <td>Butte</td>\n",
       "      <td>KK-08</td>\n",
       "      <td>240</td>\n",
       "      <td>11.150000</td>\n",
       "      <td>15.416700</td>\n",
       "      <td>47.916698</td>\n",
       "      <td>101</td>\n",
       "      <td>5099.380859</td>\n",
       "      <td>9.824000</td>\n",
       "      <td>4.583333</td>\n",
       "      <td>660.500000</td>\n",
       "      <td>661.900024</td>\n",
       "      <td>21.524664</td>\n",
       "      <td>661.200012</td>\n",
       "    </tr>\n",
       "    <tr>\n",
       "      <th>2</th>\n",
       "      <td>61549</td>\n",
       "      <td>Thermalito Union Elementary</td>\n",
       "      <td>Butte</td>\n",
       "      <td>KK-08</td>\n",
       "      <td>1550</td>\n",
       "      <td>82.900002</td>\n",
       "      <td>55.032299</td>\n",
       "      <td>76.322601</td>\n",
       "      <td>169</td>\n",
       "      <td>5501.954590</td>\n",
       "      <td>8.978000</td>\n",
       "      <td>30.000002</td>\n",
       "      <td>636.299988</td>\n",
       "      <td>650.900024</td>\n",
       "      <td>18.697225</td>\n",
       "      <td>643.600006</td>\n",
       "    </tr>\n",
       "    <tr>\n",
       "      <th>3</th>\n",
       "      <td>61457</td>\n",
       "      <td>Golden Feather Union Elementary</td>\n",
       "      <td>Butte</td>\n",
       "      <td>KK-08</td>\n",
       "      <td>243</td>\n",
       "      <td>14.000000</td>\n",
       "      <td>36.475399</td>\n",
       "      <td>77.049202</td>\n",
       "      <td>85</td>\n",
       "      <td>7101.831055</td>\n",
       "      <td>8.978000</td>\n",
       "      <td>0.000000</td>\n",
       "      <td>651.900024</td>\n",
       "      <td>643.500000</td>\n",
       "      <td>17.357143</td>\n",
       "      <td>647.700012</td>\n",
       "    </tr>\n",
       "    <tr>\n",
       "      <th>4</th>\n",
       "      <td>61523</td>\n",
       "      <td>Palermo Union Elementary</td>\n",
       "      <td>Butte</td>\n",
       "      <td>KK-08</td>\n",
       "      <td>1335</td>\n",
       "      <td>71.500000</td>\n",
       "      <td>33.108601</td>\n",
       "      <td>78.427002</td>\n",
       "      <td>171</td>\n",
       "      <td>5235.987793</td>\n",
       "      <td>9.080333</td>\n",
       "      <td>13.857677</td>\n",
       "      <td>641.799988</td>\n",
       "      <td>639.900024</td>\n",
       "      <td>18.671329</td>\n",
       "      <td>640.850006</td>\n",
       "    </tr>\n",
       "  </tbody>\n",
       "</table>\n",
       "</div>"
      ],
      "text/plain": [
       "   district                           school   county grades  students  \\\n",
       "0     75119               Sunol Glen Unified  Alameda  KK-08       195   \n",
       "1     61499             Manzanita Elementary    Butte  KK-08       240   \n",
       "2     61549      Thermalito Union Elementary    Butte  KK-08      1550   \n",
       "3     61457  Golden Feather Union Elementary    Butte  KK-08       243   \n",
       "4     61523         Palermo Union Elementary    Butte  KK-08      1335   \n",
       "\n",
       "    teachers   calworks      lunch  computer  expenditure     income  \\\n",
       "0  10.900000   0.510200   2.040800        67  6384.911133  22.690001   \n",
       "1  11.150000  15.416700  47.916698       101  5099.380859   9.824000   \n",
       "2  82.900002  55.032299  76.322601       169  5501.954590   8.978000   \n",
       "3  14.000000  36.475399  77.049202        85  7101.831055   8.978000   \n",
       "4  71.500000  33.108601  78.427002       171  5235.987793   9.080333   \n",
       "\n",
       "     english        read        math       size       score  \n",
       "0   0.000000  691.599976  690.000000  17.889909  690.799988  \n",
       "1   4.583333  660.500000  661.900024  21.524664  661.200012  \n",
       "2  30.000002  636.299988  650.900024  18.697225  643.600006  \n",
       "3   0.000000  651.900024  643.500000  17.357143  647.700012  \n",
       "4  13.857677  641.799988  639.900024  18.671329  640.850006  "
      ]
     },
     "execution_count": 1,
     "metadata": {},
     "output_type": "execute_result"
    }
   ],
   "source": [
    "import numpy as np\n",
    "import pandas as pd\n",
    "import matplotlib.pyplot as plt\n",
    "\n",
    "data = pd.read_csv(\"data/CASchools.csv\")\n",
    "data.head()"
   ]
  },
  {
   "cell_type": "code",
   "execution_count": 2,
   "id": "cf9e3350",
   "metadata": {},
   "outputs": [],
   "source": [
    "from sklearn.linear_model import LinearRegression\n",
    "from sklearn.tree import DecisionTreeRegressor\n",
    "from sklearn.model_selection import train_test_split\n",
    "from sklearn.metrics import r2_score"
   ]
  },
  {
   "cell_type": "code",
   "execution_count": 3,
   "id": "7ed838e2",
   "metadata": {},
   "outputs": [],
   "source": [
    "numeric_features = [\"students\", \"teachers\", \"calworks\", \"lunch\", \"computer\", \"expenditure\", \"income\"]\n",
    "\n",
    "X = data[numeric_features]\n",
    "y = data.read\n",
    "\n",
    "X_train, X_test, y_train, y_test = train_test_split(X, y, test_size=0.2)"
   ]
  },
  {
   "cell_type": "code",
   "execution_count": 4,
   "id": "24da3310",
   "metadata": {},
   "outputs": [],
   "source": [
    "from sklearn.feature_selection import SelectFromModel\n",
    "SelectFromModel?"
   ]
  },
  {
   "cell_type": "code",
   "execution_count": 5,
   "id": "90e77544",
   "metadata": {},
   "outputs": [],
   "source": [
    "selector = SelectFromModel(DecisionTreeRegressor(), threshold=0.05)"
   ]
  },
  {
   "cell_type": "code",
   "execution_count": 6,
   "id": "c46f4f34",
   "metadata": {},
   "outputs": [
    {
     "data": {
      "text/plain": [
       "SelectFromModel(estimator=DecisionTreeRegressor(), threshold=0.05)"
      ]
     },
     "execution_count": 6,
     "metadata": {},
     "output_type": "execute_result"
    }
   ],
   "source": [
    "selector.fit(X_train, y_train)"
   ]
  },
  {
   "cell_type": "code",
   "execution_count": 7,
   "id": "25930a48",
   "metadata": {
    "collapsed": true
   },
   "outputs": [
    {
     "data": {
      "text/plain": [
       "array([[ 56.29940033,  14.22672749],\n",
       "       [ 87.77819824,   9.70899963],\n",
       "       [ 80.9756012 ,   8.25800037],\n",
       "       [ 78.42700195,   9.08033276],\n",
       "       [ 42.9640007 ,  19.99699974],\n",
       "       [ 55.7901001 ,  15.59285736],\n",
       "       [ 35.82089996,  11.42599964],\n",
       "       [ 91.54640198,   9.63000011],\n",
       "       [ 35.26789856,   9.70899963],\n",
       "       [ 35.75910187,  16.29299927],\n",
       "       [ 76.77259827,   9.98600006],\n",
       "       [ 55.09389877,  15.05137539],\n",
       "       [ 82.57219696,  10.23966694],\n",
       "       [ 32.11009979,   9.66499996],\n",
       "       [ 63.43280029,   7.38500023],\n",
       "       [ 23.3010006 ,   8.77600002],\n",
       "       [ 32.13679886,  23.48374939],\n",
       "       [ 32.12440109,  17.70899963],\n",
       "       [  0.        ,  22.52899933],\n",
       "       [ 44.68090057,   9.48499966],\n",
       "       [ 36.88999939,  14.59766674],\n",
       "       [ 24.81480026,  13.46700001],\n",
       "       [ 51.6529007 ,   9.92599964],\n",
       "       [  0.59799999,  40.40200043],\n",
       "       [ 98.13079834,   5.33500004],\n",
       "       [ 28.125     ,  11.11600018],\n",
       "       [ 15.3302002 ,  22.13899994],\n",
       "       [ 22.88310051,  11.11600018],\n",
       "       [ 63.9054985 ,   8.38399982],\n",
       "       [ 11.04290009,  18.62599945],\n",
       "       [  5.93219995,  18.28300095],\n",
       "       [ 37.19380188,  23.7329998 ],\n",
       "       [ 22.69300079,  16.98662567],\n",
       "       [  6.53529978,  33.45500183],\n",
       "       [ 10.65149975,  19.3465004 ],\n",
       "       [ 32.68610001,  16.27199936],\n",
       "       [ 50.38759995,  10.63899994],\n",
       "       [ 25.1121006 ,  11.23799992],\n",
       "       [ 31.3708992 ,  14.60299969],\n",
       "       [ 11.40680027,  13.56700039],\n",
       "       [ 37.04560089,  13.63000011],\n",
       "       [ 20.        ,  13.71199989],\n",
       "       [ 48.87889862,   9.78100014],\n",
       "       [ 33.59999847,  18.32600021],\n",
       "       [ 97.75969696,   6.21600008],\n",
       "       [ 36.70209885,  18.79899979],\n",
       "       [ 43.90240097,  11.08100033],\n",
       "       [  8.60929966,  36.17399979],\n",
       "       [ 72.18540192,  11.55300045],\n",
       "       [ 74.85099792,  14.46780014],\n",
       "       [  1.50380003,  41.73410797],\n",
       "       [ 31.03450012,  17.15600014],\n",
       "       [  0.1239    ,  40.26399994],\n",
       "       [ 62.13019943,   7.33199978],\n",
       "       [ 64.78869629,  11.93799973],\n",
       "       [ 69.62030029,  14.06599998],\n",
       "       [ 68.39640045,  13.7305994 ],\n",
       "       [ 46.05039978,  14.19699955],\n",
       "       [ 92.74310303,  10.05049992],\n",
       "       [  2.44560003,  25.62199974],\n",
       "       [ 11.7517004 ,  16.32099915],\n",
       "       [ 34.03609848,  15.49300003],\n",
       "       [ 58.53310013,  15.2937994 ],\n",
       "       [ 36.48450089,  15.16699982],\n",
       "       [ 52.94350052,  13.76200008],\n",
       "       [ 32.36970139,  11.88574982],\n",
       "       [ 76.79319763,   7.30499983],\n",
       "       [ 84.55390167,   8.86499977],\n",
       "       [ 50.97079849,  15.68465424],\n",
       "       [ 69.97740173,   7.38500023],\n",
       "       [ 39.03680038,  25.4873333 ],\n",
       "       [ 11.70129967,  20.73905563],\n",
       "       [ 84.43379974,  11.33250046],\n",
       "       [ 68.57189941,   8.92033291],\n",
       "       [ 28.17160034,  10.26399994],\n",
       "       [ 23.09889984,  20.54599953],\n",
       "       [ 53.60229874,  10.20199966],\n",
       "       [ 22.16360092,  15.18000031],\n",
       "       [ 62.50389862,  15.41317654],\n",
       "       [ 44.25970078,  15.27400017],\n",
       "       [ 59.72219849,  10.09799957],\n",
       "       [ 16.95429993,  18.1186657 ],\n",
       "       [ 15.92920017,  15.16699982],\n",
       "       [ 23.05480003,  13.71199989],\n",
       "       [ 72.32080078,  10.67599964],\n",
       "       [ 88.03489685,   7.98318148],\n",
       "       [ 83.873703  ,   9.428895  ],\n",
       "       [ 18.38780022,  18.54422188],\n",
       "       [ 32.65190125,  14.06200027],\n",
       "       [ 32.18709946,   9.97200012],\n",
       "       [ 29.31850052,  16.06399918],\n",
       "       [ 80.25869751,  14.03425026],\n",
       "       [ 15.08860016,  25.03000069],\n",
       "       [ 32.76549911,  17.43519974],\n",
       "       [ 40.3995018 ,  17.82299995],\n",
       "       [ 21.08919907,  21.56599998],\n",
       "       [ 77.0089035 ,  10.36442852],\n",
       "       [ 17.54389954,  18.62599945],\n",
       "       [ 12.17479992,  21.63172722],\n",
       "       [ 20.92630005,  15.77099991],\n",
       "       [ 21.78030014,  15.42800045],\n",
       "       [ 69.94249725,  13.40511703],\n",
       "       [ 31.38689995,  14.86699963],\n",
       "       [ 25.31649971,  11.64900017],\n",
       "       [  0.        ,  35.81000137],\n",
       "       [ 82.13169861,   9.08199978],\n",
       "       [ 63.80360031,  11.11600018],\n",
       "       [  8.67310047,  15.56725025],\n",
       "       [ 84.73139954,   9.59799957],\n",
       "       [ 70.89569855,  11.78499985],\n",
       "       [ 81.50650024,   6.61299992],\n",
       "       [ 28.37660027,  25.02961922],\n",
       "       [ 51.85189819,  13.43700027],\n",
       "       [ 37.10860062,  13.52233315],\n",
       "       [  8.34430027,  19.11700058],\n",
       "       [ 29.02099991,  18.59300041],\n",
       "       [ 80.60420227,  13.39000034],\n",
       "       [  0.        ,  50.67699814],\n",
       "       [ 74.86239624,  10.05599976],\n",
       "       [ 66.90650177,  13.27299976],\n",
       "       [ 25.60549927,  14.16300011],\n",
       "       [ 34.44710159,  16.27199936],\n",
       "       [ 33.9211998 ,  14.26299953],\n",
       "       [ 31.08279991,  16.75780106],\n",
       "       [ 20.58099937,  18.67099953],\n",
       "       [ 81.11730194,  22.05999947],\n",
       "       [ 24.74710083,  17.3694458 ],\n",
       "       [  0.        ,  43.22999954],\n",
       "       [ 46.12210083,  10.55099964],\n",
       "       [ 23.4409008 ,  16.32299995],\n",
       "       [ 71.02380371,  14.24290085],\n",
       "       [ 27.35449982,  19.82312584],\n",
       "       [ 73.59760284,   9.97200012],\n",
       "       [ 77.04920197,   8.97799969],\n",
       "       [  3.55690002,  28.71699905],\n",
       "       [  1.8987    ,  30.62849998],\n",
       "       [ 32.86380005,  13.44299984],\n",
       "       [ 29.03980064,  15.16699982],\n",
       "       [ 25.98679924,  22.75799942],\n",
       "       [ 94.623703  ,   6.57700014],\n",
       "       [ 21.34339905,  18.63059998],\n",
       "       [ 60.13290024,  10.03499985],\n",
       "       [ 66.25509644,   9.78100014],\n",
       "       [  0.        ,  20.13400078],\n",
       "       [ 44.44440079,  10.63899994],\n",
       "       [ 42.60089874,  12.64000034],\n",
       "       [  2.79209995,  34.15950012],\n",
       "       [ 66.94920349,  13.72500038],\n",
       "       [ 33.91809845,  10.64299965],\n",
       "       [ 26.94330025,  12.89999962],\n",
       "       [ 81.02349854,   8.5539999 ],\n",
       "       [ 30.17239952,  15.29699993],\n",
       "       [ 82.39260101,  13.40062523],\n",
       "       [  0.        ,  13.58600044],\n",
       "       [ 47.12469864,  12.51799965],\n",
       "       [ 13.36919975,  16.95599937],\n",
       "       [ 84.99900055,  10.90564251],\n",
       "       [  3.62199998,  25.73699951],\n",
       "       [  2.43589997,  35.48099899],\n",
       "       [ 37.29109955,  15.74991703],\n",
       "       [ 36.44990158,  16.40699959],\n",
       "       [ 20.48189926,  30.84000015],\n",
       "       [ 94.97119904,   7.02199984],\n",
       "       [ 12.57409954,  14.57800007],\n",
       "       [ 85.86959839,   8.17800045],\n",
       "       [ 40.1629982 ,  12.66600037],\n",
       "       [ 36.0007019 ,  22.09600067],\n",
       "       [ 13.27620029,  20.93642807],\n",
       "       [ 40.92910004,  13.71199989],\n",
       "       [ 30.6779995 ,  11.4659996 ],\n",
       "       [ 19.37249947,  18.82723045],\n",
       "       [ 38.20019913,  20.77000046],\n",
       "       [  3.73020005,  24.60300064],\n",
       "       [ 31.01889992,  16.65411186],\n",
       "       [ 85.87439728,   8.93099976],\n",
       "       [ 85.14720154,   8.52299976],\n",
       "       [ 84.92060089,  11.66499996],\n",
       "       [ 47.85279846,  10.09799957],\n",
       "       [ 93.63059998,   7.38500023],\n",
       "       [ 61.73820114,  15.40407085],\n",
       "       [ 56.00889969,  10.55666733],\n",
       "       [ 19.5685997 ,  17.78033447],\n",
       "       [ 83.15789795,   8.27900028],\n",
       "       [ 19.09110069,  23.80609894],\n",
       "       [ 67.75180054,   9.48499966],\n",
       "       [ 12.82050037,  16.95599937],\n",
       "       [ 54.65409851,  11.18299961],\n",
       "       [ 14.39999962,  14.17700005],\n",
       "       [ 59.40589905,   9.95199966],\n",
       "       [ 48.48479843,  12.93400002],\n",
       "       [ 45.88240051,  11.10299969],\n",
       "       [ 25.10370064,  15.50599957],\n",
       "       [ 30.08510017,  23.66737556],\n",
       "       [ 12.25809956,  17.70899963],\n",
       "       [ 60.92229843,  11.11600018],\n",
       "       [ 56.875     ,   7.5       ],\n",
       "       [  7.48659992,  15.4090004 ],\n",
       "       [ 12.5       ,  25.06299973],\n",
       "       [ 33.06230164,  14.65299988],\n",
       "       [ 62.21279907,   8.89599991],\n",
       "       [ 45.71429825,  10.63899994],\n",
       "       [ 72.14289856,  13.33500004],\n",
       "       [  3.91750002,  49.93899918],\n",
       "       [ 74.27230072,  11.26612473],\n",
       "       [ 29.19869995,  14.05799961],\n",
       "       [ 59.7234993 ,  11.56920052],\n",
       "       [ 93.13980103,   7.38500023],\n",
       "       [ 56.06359863,  11.08100033],\n",
       "       [ 34.07889938,  14.07600021],\n",
       "       [ 18.49410057,  18.59300041],\n",
       "       [ 30.64369965,  20.87574959],\n",
       "       [ 75.50430298,  10.52299976],\n",
       "       [ 14.8508997 ,  16.29299927],\n",
       "       [ 19.53000069,  15.51900005],\n",
       "       [ 10.12660027,  13.63000011],\n",
       "       [ 54.76190186,  10.09799957],\n",
       "       [ 25.55960083,  18.33799934],\n",
       "       [ 72.8628006 ,  11.93799973],\n",
       "       [ 66.85079956,  14.47500038],\n",
       "       [ 52.39640045,  12.99699974],\n",
       "       [ 76.27739716,  10.26799965],\n",
       "       [ 33.63010025,  13.52225018],\n",
       "       [ 76.27120209,   9.63000011],\n",
       "       [  0.        ,  22.52899933],\n",
       "       [ 21.26869965,  15.36499977],\n",
       "       [ 75.73840332,   8.25800037],\n",
       "       [ 64.74739838,  13.76200008],\n",
       "       [ 39.84870148,  13.24300003],\n",
       "       [ 89.69960022,  11.17599964],\n",
       "       [ 30.44169998,  16.47331238],\n",
       "       [ 47.70249939,  19.58963585],\n",
       "       [ 52.12020111,  14.25857162],\n",
       "       [ 41.05459976,  13.22500038],\n",
       "       [ 51.5625    ,  11.42599964],\n",
       "       [ 37.95759964,  15.13099957],\n",
       "       [ 25.3071003 ,  19.02599907],\n",
       "       [  0.        ,  35.34199905],\n",
       "       [ 82.06749725,  11.23799992],\n",
       "       [ 68.85790253,  10.09799957],\n",
       "       [  4.04040003,  13.90600014],\n",
       "       [ 53.21060181,   9.63000011],\n",
       "       [ 47.30540085,  11.83399963],\n",
       "       [ 80.92489624,  10.09799957],\n",
       "       [ 10.41419983,  17.65600014],\n",
       "       [ 11.18179989,  18.72599983],\n",
       "       [ 44.39070129,  22.84140015],\n",
       "       [ 61.41939926,  10.52299976],\n",
       "       [ 84.29499817,  12.109128  ],\n",
       "       [ 69.73989868,  12.5815773 ],\n",
       "       [ 10.18280029,  15.38099957],\n",
       "       [ 30.76919937,  19.06800079],\n",
       "       [ 51.66669846,   8.93400002],\n",
       "       [ 11.45829964,  17.70899963],\n",
       "       [ 48.81209946,  10.3113327 ],\n",
       "       [ 65.7960968 ,   9.66499996],\n",
       "       [ 90.623703  ,   8.01900005],\n",
       "       [ 77.90969849,   7.76399994],\n",
       "       [ 59.0603981 ,  10.33300018],\n",
       "       [ 51.24209976,  14.12766743],\n",
       "       [ 15.20979977,  17.50799942],\n",
       "       [  6.27089977,  35.81000137],\n",
       "       [ 56.06560135,  11.28299999],\n",
       "       [ 83.11930084,  11.11600018],\n",
       "       [ 36.6371994 ,  13.63000011],\n",
       "       [ 57.07220078,  12.2159996 ],\n",
       "       [ 42.44680023,  14.18000031],\n",
       "       [ 79.51200104,  14.06200027],\n",
       "       [ 66.43840027,   7.40500021],\n",
       "       [ 19.23080063,  20.4802227 ],\n",
       "       [  2.04080009,  22.69000053],\n",
       "       [ 54.9897995 ,  10.52099991],\n",
       "       [ 37.88399887,  12.39400005],\n",
       "       [ 24.3362999 ,  21.96699905],\n",
       "       [ 15.51280022,  21.09575081],\n",
       "       [ 83.        ,  10.26399994],\n",
       "       [ 40.16389847,  12.64000034],\n",
       "       [ 54.76190186,   8.82999992],\n",
       "       [ 27.1317997 ,  11.83399963],\n",
       "       [ 36.1344986 ,  16.3560009 ],\n",
       "       [ 14.26599979,  17.62000084],\n",
       "       [ 47.15029907,  13.57900047],\n",
       "       [ 25.37820053,  11.83399963],\n",
       "       [ 29.49640083,  10.97099972],\n",
       "       [ 36.78160095,  14.07400036],\n",
       "       [ 93.92269897,  14.60162544],\n",
       "       [ 46.04320145,  11.82999992],\n",
       "       [ 29.86429977,  15.75199986],\n",
       "       [  2.61159992,  38.62857056],\n",
       "       [ 36.31439972,  12.17399979],\n",
       "       [ 33.81029892,  17.9008007 ],\n",
       "       [ 71.76239777,  10.26399994],\n",
       "       [ 40.625     ,  14.57800007],\n",
       "       [ 63.69049835,  12.50199986],\n",
       "       [ 55.10079956,  18.29838943],\n",
       "       [ 16.06509972,  17.33200073],\n",
       "       [ 90.28489685,  12.4090004 ],\n",
       "       [ 27.71319962,  23.7329998 ],\n",
       "       [  0.1734    ,  34.30099869],\n",
       "       [ 86.02940369,   6.9829998 ],\n",
       "       [ 32.48300171,  15.53292847],\n",
       "       [ 58.54539871,  12.34300041],\n",
       "       [ 17.1508007 ,  15.77900028],\n",
       "       [ 15.75      ,  17.50799942],\n",
       "       [ 70.65769958,  10.03999996],\n",
       "       [ 52.25230026,  11.42599964],\n",
       "       [ 70.8167038 ,   7.40500021],\n",
       "       [100.        ,   7.94099998],\n",
       "       [ 24.72220039,  16.34700012],\n",
       "       [ 98.60559845,   7.38500023],\n",
       "       [ 12.94120026,  22.86333466],\n",
       "       [ 29.83869934,  13.24800014],\n",
       "       [ 31.5       ,  16.66900063],\n",
       "       [ 32.6086998 ,  14.18000031],\n",
       "       [ 15.92990017,  18.6201992 ],\n",
       "       [ 26.21360016,  14.20899963],\n",
       "       [ 44.47660065,  15.0298748 ],\n",
       "       [ 34.2344017 ,  15.33100033],\n",
       "       [ 23.6420002 ,  20.46999931],\n",
       "       [ 12.74510002,  12.64000034],\n",
       "       [ 56.52170181,  10.65633297],\n",
       "       [ 79.72550201,  10.47200012],\n",
       "       [ 52.1739006 ,  11.97200012],\n",
       "       [ 80.19560242,  11.72222519],\n",
       "       [ 56.67509842,  12.43133259],\n",
       "       [100.        ,   9.63000011],\n",
       "       [ 93.22920227,   5.69899988],\n",
       "       [ 67.71299744,  19.70700073],\n",
       "       [ 66.20690155,   9.61200047],\n",
       "       [ 30.06909943,  18.02955437],\n",
       "       [ 53.50320053,  11.82600021],\n",
       "       [ 13.06120014,  15.57199955],\n",
       "       [ 58.20429993,   9.63000011],\n",
       "       [ 90.20069885,   8.93400002],\n",
       "       [  4.69089985,  27.47521591],\n",
       "       [ 40.5646019 ,  11.23799992],\n",
       "       [ 86.95649719,  10.41499996]])"
      ]
     },
     "execution_count": 7,
     "metadata": {},
     "output_type": "execute_result"
    }
   ],
   "source": [
    "selector.transform(X_train)"
   ]
  },
  {
   "cell_type": "code",
   "execution_count": 8,
   "id": "5f69da82",
   "metadata": {},
   "outputs": [
    {
     "data": {
      "text/plain": [
       "array([False, False, False,  True, False, False,  True])"
      ]
     },
     "execution_count": 8,
     "metadata": {},
     "output_type": "execute_result"
    }
   ],
   "source": [
    "selector.get_support()"
   ]
  },
  {
   "cell_type": "code",
   "execution_count": 10,
   "id": "fb2e4bec",
   "metadata": {},
   "outputs": [
    {
     "data": {
      "text/plain": [
       "array([0.04961506, 0.02259876, 0.01871219, 0.702662  , 0.02623632,\n",
       "       0.04157713, 0.13859854])"
      ]
     },
     "execution_count": 10,
     "metadata": {},
     "output_type": "execute_result"
    }
   ],
   "source": [
    "selector.estimator_.feature_importances_"
   ]
  },
  {
   "cell_type": "code",
   "execution_count": 12,
   "id": "7aa1bc22",
   "metadata": {},
   "outputs": [],
   "source": [
    "from sklearn.pipeline import make_pipeline\n",
    "from sklearn.preprocessing import StandardScaler\n",
    "from sklearn.linear_model import Lasso"
   ]
  },
  {
   "cell_type": "code",
   "execution_count": 13,
   "id": "8b339d54",
   "metadata": {},
   "outputs": [
    {
     "data": {
      "text/plain": [
       "Pipeline(steps=[('standardscaler', StandardScaler()),\n",
       "                ('selectfrommodel',\n",
       "                 SelectFromModel(estimator=Lasso(), threshold=0.01)),\n",
       "                ('linearregression', LinearRegression())])"
      ]
     },
     "execution_count": 13,
     "metadata": {},
     "output_type": "execute_result"
    }
   ],
   "source": [
    "pipeline = make_pipeline(StandardScaler(), \n",
    "                         SelectFromModel(Lasso(), threshold=0.01),\n",
    "                         LinearRegression())\n",
    "\n",
    "pipeline.fit(X_train, y_train)"
   ]
  },
  {
   "cell_type": "code",
   "execution_count": 14,
   "id": "f4791263",
   "metadata": {},
   "outputs": [
    {
     "data": {
      "text/plain": [
       "0.8542179901902835"
      ]
     },
     "execution_count": 14,
     "metadata": {},
     "output_type": "execute_result"
    }
   ],
   "source": [
    "r2_score(y_test, pipeline.predict(X_test))"
   ]
  },
  {
   "cell_type": "code",
   "execution_count": 18,
   "id": "e0d778f2",
   "metadata": {},
   "outputs": [
    {
     "data": {
      "text/plain": [
       "array([ True, False, False,  True, False,  True,  True])"
      ]
     },
     "execution_count": 18,
     "metadata": {},
     "output_type": "execute_result"
    }
   ],
   "source": [
    "pipeline.steps[1][1].get_support()"
   ]
  },
  {
   "cell_type": "code",
   "execution_count": 19,
   "id": "636ca32a",
   "metadata": {},
   "outputs": [],
   "source": [
    "from sklearn.model_selection import GridSearchCV"
   ]
  },
  {
   "cell_type": "code",
   "execution_count": 20,
   "id": "560704c4",
   "metadata": {},
   "outputs": [
    {
     "data": {
      "text/plain": [
       "GridSearchCV(estimator=Pipeline(steps=[('standardscaler', StandardScaler()),\n",
       "                                       ('selectfrommodel',\n",
       "                                        SelectFromModel(estimator=Lasso(),\n",
       "                                                        threshold=0.01)),\n",
       "                                       ('linearregression',\n",
       "                                        LinearRegression())]),\n",
       "             param_grid={'selectfrommodel__threshold': [0.005, 0.01, 0.1]})"
      ]
     },
     "execution_count": 20,
     "metadata": {},
     "output_type": "execute_result"
    }
   ],
   "source": [
    "pipeline = make_pipeline(StandardScaler(), \n",
    "                         SelectFromModel(Lasso(), threshold=0.01),\n",
    "                         LinearRegression())\n",
    "param_grid = {\"selectfrommodel__threshold\": [0.005, 0.01, 0.1]}\n",
    "\n",
    "optimizer = GridSearchCV(pipeline, param_grid=param_grid)\n",
    "optimizer.fit(X_train, y_train)"
   ]
  },
  {
   "cell_type": "code",
   "execution_count": 21,
   "id": "772020cb",
   "metadata": {},
   "outputs": [
    {
     "data": {
      "text/plain": [
       "{'selectfrommodel__threshold': 0.005}"
      ]
     },
     "execution_count": 21,
     "metadata": {},
     "output_type": "execute_result"
    }
   ],
   "source": [
    "optimizer.best_params_"
   ]
  },
  {
   "cell_type": "code",
   "execution_count": 22,
   "id": "98bfeff0",
   "metadata": {},
   "outputs": [],
   "source": [
    "from sklearn.feature_selection import RFE, RFECV\n",
    "?RFE"
   ]
  },
  {
   "cell_type": "code",
   "execution_count": 23,
   "id": "385fe718",
   "metadata": {},
   "outputs": [
    {
     "data": {
      "text/plain": [
       "Pipeline(steps=[('standardscaler', StandardScaler()),\n",
       "                ('rfe', RFE(estimator=Lasso(), n_features_to_select=5)),\n",
       "                ('linearregression', LinearRegression())])"
      ]
     },
     "execution_count": 23,
     "metadata": {},
     "output_type": "execute_result"
    }
   ],
   "source": [
    "pipeline = make_pipeline(StandardScaler(), \n",
    "                         RFE(Lasso(), n_features_to_select=5, step=1),\n",
    "                         LinearRegression())\n",
    "\n",
    "pipeline.fit(X_train, y_train)"
   ]
  },
  {
   "cell_type": "code",
   "execution_count": 24,
   "id": "43860639",
   "metadata": {},
   "outputs": [],
   "source": [
    "?RFECV"
   ]
  },
  {
   "cell_type": "code",
   "execution_count": 26,
   "id": "b74925d6",
   "metadata": {},
   "outputs": [
    {
     "data": {
      "text/plain": [
       "Pipeline(steps=[('standardscaler', StandardScaler()),\n",
       "                ('rfecv',\n",
       "                 RFECV(cv=5, estimator=Lasso(), n_jobs=-1, scoring='r2')),\n",
       "                ('linearregression', LinearRegression())])"
      ]
     },
     "execution_count": 26,
     "metadata": {},
     "output_type": "execute_result"
    }
   ],
   "source": [
    "pipeline = make_pipeline(StandardScaler(), \n",
    "                         RFECV(Lasso(), step=1, cv=5, scoring=\"r2\", n_jobs=-1),\n",
    "                         LinearRegression())\n",
    "\n",
    "pipeline.fit(X_train, y_train)"
   ]
  },
  {
   "cell_type": "code",
   "execution_count": 28,
   "id": "8be4c750",
   "metadata": {},
   "outputs": [
    {
     "data": {
      "text/plain": [
       "array([ True, False, False,  True, False,  True,  True])"
      ]
     },
     "execution_count": 28,
     "metadata": {},
     "output_type": "execute_result"
    }
   ],
   "source": [
    "pipeline.steps[1][1].get_support()"
   ]
  },
  {
   "cell_type": "code",
   "execution_count": 30,
   "id": "57513008",
   "metadata": {},
   "outputs": [],
   "source": [
    "from sklearn.feature_selection import SelectKBest, f_regression, f_classif\n",
    "?SelectKBest"
   ]
  },
  {
   "cell_type": "code",
   "execution_count": 33,
   "id": "5aabca3d",
   "metadata": {},
   "outputs": [
    {
     "data": {
      "text/plain": [
       "Pipeline(steps=[('standardscaler', StandardScaler()),\n",
       "                ('selectkbest',\n",
       "                 SelectKBest(k=5,\n",
       "                             score_func=<function f_regression at 0x7f83e4e20670>)),\n",
       "                ('rfe', RFE(estimator=Lasso(), n_features_to_select=3)),\n",
       "                ('linearregression', LinearRegression())])"
      ]
     },
     "execution_count": 33,
     "metadata": {},
     "output_type": "execute_result"
    }
   ],
   "source": [
    "pipeline = make_pipeline(StandardScaler(), \n",
    "                         SelectKBest(f_regression, k=5),\n",
    "                         RFE(Lasso(), n_features_to_select=3, step=1),\n",
    "                         LinearRegression())\n",
    "\n",
    "pipeline.fit(X_train, y_train)"
   ]
  },
  {
   "cell_type": "code",
   "execution_count": 34,
   "id": "46bca520",
   "metadata": {},
   "outputs": [
    {
     "data": {
      "text/plain": [
       "0.8579025167702519"
      ]
     },
     "execution_count": 34,
     "metadata": {},
     "output_type": "execute_result"
    }
   ],
   "source": [
    "r2_score(y_test, pipeline.predict(X_test))"
   ]
  },
  {
   "cell_type": "code",
   "execution_count": null,
   "id": "8c3f7f4c",
   "metadata": {},
   "outputs": [],
   "source": []
  }
 ],
 "metadata": {
  "kernelspec": {
   "display_name": "Elearn",
   "language": "python",
   "name": "elearn"
  },
  "language_info": {
   "codemirror_mode": {
    "name": "ipython",
    "version": 3
   },
   "file_extension": ".py",
   "mimetype": "text/x-python",
   "name": "python",
   "nbconvert_exporter": "python",
   "pygments_lexer": "ipython3",
   "version": "3.9.5"
  }
 },
 "nbformat": 4,
 "nbformat_minor": 5
}
